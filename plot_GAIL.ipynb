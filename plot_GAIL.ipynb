{
 "cells": [
  {
   "cell_type": "code",
   "execution_count": null,
   "metadata": {},
   "outputs": [],
   "source": [
    "import pandas as pd\n",
    "import matplotlib.pyplot as plt\n",
    "# Read the data into a pandas DataFrame\n",
    "df = pd.read_csv(\"GAIL_data.csv\", sep=)\n",
    "\n",
    "# User can specify up to which data point to slice, for example up to the 10th data point\n",
    "slice_point = 10  # or any other number as per the user's requirement\n",
    "\n",
    "# Slicing the DataFrame\n",
    "sliced_df = df.iloc[:slice_point]\n",
    "\n",
    "# Plotting\n",
    "plt.figure(figsize=(10, 6))\n",
    "plt.plot(sliced_df['Episode'], sliced_df['Reward'])\n",
    "plt.title('Reward vs Episode')\n",
    "plt.xlabel('Episode')\n",
    "plt.ylabel('Reward')\n",
    "plt.grid(True)\n",
    "plt.show()"
   ]
  }
 ],
 "metadata": {
  "language_info": {
   "name": "python"
  }
 },
 "nbformat": 4,
 "nbformat_minor": 2
}
